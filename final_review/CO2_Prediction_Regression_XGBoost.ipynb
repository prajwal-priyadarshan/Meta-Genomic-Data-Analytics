{
 "cells": [
  {
   "cell_type": "markdown",
   "id": "7814e63f",
   "metadata": {},
   "source": [
    "### For Final Review"
   ]
  },
  {
   "cell_type": "markdown",
   "id": "3fb7e5a1",
   "metadata": {},
   "source": [
    "#### XGBoost Model"
   ]
  },
  {
   "cell_type": "markdown",
   "id": "1c321133",
   "metadata": {},
   "source": [
    "###### CO2_Emission (Âµg/g/day)"
   ]
  },
  {
   "cell_type": "code",
   "execution_count": null,
   "id": "754e01b6",
   "metadata": {},
   "outputs": [
    {
     "name": "stderr",
     "output_type": "stream",
     "text": [
      "<>:20: SyntaxWarning: invalid escape sequence '\\S'\n",
      "<>:20: SyntaxWarning: invalid escape sequence '\\S'\n",
      "C:\\Users\\RAHUL L S\\AppData\\Local\\Temp\\ipykernel_200\\2857751456.py:20: SyntaxWarning: invalid escape sequence '\\S'\n",
      "  df = pd.read_csv(\"E:\\S3\\IBS\\Meta-Genomic-Data-Analytics\\Dataset\\Soil_microbe_dataset.csv\")  # change file name if needed\n"
     ]
    },
    {
     "name": "stdout",
     "output_type": "stream",
     "text": [
      "Fitting 3 folds for each of 10 candidates, totalling 30 fits\n"
     ]
    },
    {
     "name": "stderr",
     "output_type": "stream",
     "text": [
      "c:\\Users\\RAHUL L S\\anaconda3\\Lib\\site-packages\\sklearn\\metrics\\_regression.py:492: FutureWarning: 'squared' is deprecated in version 1.4 and will be removed in 1.6. To calculate the root mean squared error, use the function'root_mean_squared_error'.\n",
      "  warnings.warn(\n",
      "c:\\Users\\RAHUL L S\\anaconda3\\Lib\\site-packages\\sklearn\\metrics\\_regression.py:492: FutureWarning: 'squared' is deprecated in version 1.4 and will be removed in 1.6. To calculate the root mean squared error, use the function'root_mean_squared_error'.\n",
      "  warnings.warn(\n"
     ]
    },
    {
     "name": "stdout",
     "output_type": "stream",
     "text": [
      "\n",
      "Performance Comparison (Test Set):\n",
      "\n",
      "                       R2       MAE      RMSE\n",
      "XGBoost_default  0.999582  0.082048  0.103227\n",
      "XGBoost_tuned    0.999577  0.082516  0.103817\n",
      "\n",
      "Train vs Test R²:\n",
      "Default XGB  -> Train: 0.999648717680866  Test: 0.9995820652385292\n",
      "Tuned   XGB  -> Train: 0.9996615364409726  Test: 0.9995772711631369\n"
     ]
    }
   ],
   "source": [
    "# ==============================\n",
    "# IBS Project - XGBoost Model\n",
    "# ==============================\n",
    "\n",
    "import pandas as pd\n",
    "\n",
    "from sklearn.model_selection import train_test_split, RandomizedSearchCV\n",
    "from sklearn.metrics import r2_score, mean_absolute_error, mean_squared_error\n",
    "from sklearn.pipeline import Pipeline\n",
    "from sklearn.compose import ColumnTransformer\n",
    "from sklearn.preprocessing import StandardScaler, OneHotEncoder\n",
    "from sklearn.impute import SimpleImputer\n",
    "\n",
    "from xgboost import XGBRegressor\n",
    "\n",
    "# ------------------------------\n",
    "# Load dataset\n",
    "# ------------------------------\n",
    "df = pd.read_csv(\"Dataset\\Soil_microbe_dataset.csv\")\n",
    "\n",
    "# Define target column\n",
    "target_col = df.columns[-2]\n",
    "\n",
    "X = df.drop(columns=[target_col])\n",
    "y = df[target_col]\n",
    "\n",
    "# Identify numeric and categorical columns\n",
    "num_cols = X.select_dtypes(include=[\"int64\", \"float64\"]).columns.tolist()\n",
    "cat_cols = X.select_dtypes(include=[\"object\", \"category\"]).columns.tolist()\n",
    "\n",
    "# ------------------------------\n",
    "# Preprocessing pipelines\n",
    "# ------------------------------\n",
    "numeric_transformer = Pipeline(steps=[\n",
    "    ('imputer', SimpleImputer(strategy='median')),\n",
    "    ('scaler', StandardScaler())\n",
    "])\n",
    "\n",
    "categorical_transformer = Pipeline(steps=[\n",
    "    ('imputer', SimpleImputer(strategy='most_frequent')),\n",
    "    ('onehot', OneHotEncoder(handle_unknown='ignore', sparse_output=False))\n",
    "])\n",
    "\n",
    "preprocessor = ColumnTransformer(\n",
    "    transformers=[\n",
    "        ('num', numeric_transformer, num_cols),\n",
    "        ('cat', categorical_transformer, cat_cols)\n",
    "    ],\n",
    "    remainder='drop'\n",
    ")\n",
    "\n",
    "# ------------------------------\n",
    "# Train-test split\n",
    "# ------------------------------\n",
    "RANDOM_SEED = 42\n",
    "X_train, X_test, y_train, y_test = train_test_split(\n",
    "    X, y, test_size=0.2, random_state=RANDOM_SEED\n",
    ")\n",
    "\n",
    "# ------------------------------\n",
    "# Default XGBoost Model\n",
    "# ------------------------------\n",
    "xgb_default = Pipeline(steps=[\n",
    "    ('preprocessor', preprocessor),\n",
    "    ('model', XGBRegressor(random_state=RANDOM_SEED, verbosity=0))\n",
    "])\n",
    "\n",
    "xgb_default.fit(X_train, y_train)\n",
    "y_pred_default = xgb_default.predict(X_test)\n",
    "\n",
    "# ------------------------------\n",
    "# Tuned XGBoost Model\n",
    "# ------------------------------\n",
    "param_dist = {\n",
    "    'model__n_estimators': [100, 200, 300],\n",
    "    'model__max_depth': [3, 5, 7, 10],\n",
    "    'model__learning_rate': [0.01, 0.05, 0.1, 0.2],\n",
    "    'model__subsample': [0.6, 0.8, 1.0],\n",
    "    'model__colsample_bytree': [0.6, 0.8, 1.0]\n",
    "}\n",
    "\n",
    "xgb_tuned = Pipeline(steps=[\n",
    "    ('preprocessor', preprocessor),\n",
    "    ('model', XGBRegressor(random_state=RANDOM_SEED, verbosity=0))\n",
    "])\n",
    "\n",
    "search = RandomizedSearchCV(\n",
    "    xgb_tuned,\n",
    "    param_distributions=param_dist,\n",
    "    n_iter=10,\n",
    "    scoring='r2',\n",
    "    cv=3,\n",
    "    verbose=1,\n",
    "    random_state=RANDOM_SEED,\n",
    "    n_jobs=-1\n",
    ")\n",
    "\n",
    "search.fit(X_train, y_train)\n",
    "best_xgb = search.best_estimator_\n",
    "y_pred_tuned = best_xgb.predict(X_test)\n",
    "\n",
    "# ------------------------------\n",
    "# Performance Evaluation\n",
    "# ------------------------------\n",
    "results = pd.DataFrame({\n",
    "    \"R2\": [\n",
    "        r2_score(y_test, y_pred_default),\n",
    "        r2_score(y_test, y_pred_tuned)\n",
    "    ],\n",
    "    \"MAE\": [\n",
    "        mean_absolute_error(y_test, y_pred_default),\n",
    "        mean_absolute_error(y_test, y_pred_tuned)\n",
    "    ],\n",
    "    \"RMSE\": [\n",
    "        mean_squared_error(y_test, y_pred_default, squared=False),\n",
    "        mean_squared_error(y_test, y_pred_tuned, squared=False)\n",
    "    ]\n",
    "}, index=[\"XGBoost_default\", \"XGBoost_tuned\"])\n",
    "\n",
    "print(\"\\nPerformance Comparison (Test Set):\\n\")\n",
    "print(results)\n",
    "\n",
    "# ------------------------------\n",
    "# Extra Check: Train vs Test R²\n",
    "# ------------------------------\n",
    "print(\"\\nTrain vs Test R²:\")\n",
    "print(\"Default XGB  -> Train:\", r2_score(y_train, xgb_default.predict(X_train)), \n",
    "      \" Test:\", r2_score(y_test, y_pred_default))\n",
    "print(\"Tuned   XGB  -> Train:\", r2_score(y_train, best_xgb.predict(X_train)), \n",
    "      \" Test:\", r2_score(y_test, y_pred_tuned))"
   ]
  },
  {
   "cell_type": "code",
   "execution_count": null,
   "id": "fd01f07b",
   "metadata": {},
   "outputs": [],
   "source": []
  }
 ],
 "metadata": {
  "kernelspec": {
   "display_name": "Python (EOC)",
   "language": "python",
   "name": "eoc"
  },
  "language_info": {
   "codemirror_mode": {
    "name": "ipython",
    "version": 3
   },
   "file_extension": ".py",
   "mimetype": "text/x-python",
   "name": "python",
   "nbconvert_exporter": "python",
   "pygments_lexer": "ipython3",
   "version": "3.13.1"
  }
 },
 "nbformat": 4,
 "nbformat_minor": 5
}
